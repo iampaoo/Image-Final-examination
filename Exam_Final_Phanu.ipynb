{
 "cells": [
  {
   "cell_type": "code",
   "execution_count": 1,
   "metadata": {},
   "outputs": [
    {
     "name": "stdout",
     "output_type": "stream",
     "text": [
      "Requirement already satisfied: opencv-contrib-python==4.5.3.56 in c:\\users\\user\\appdata\\local\\programs\\python\\python39\\lib\\site-packages (4.5.3.56)\n",
      "Requirement already satisfied: numpy>=1.19.3 in c:\\users\\user\\appdata\\local\\programs\\python\\python39\\lib\\site-packages (from opencv-contrib-python==4.5.3.56) (1.21.2)\n"
     ]
    }
   ],
   "source": [
    "!pip install  opencv-contrib-python==4.5.3.56\n",
    "import numpy as np\n",
    "import cv2 "
   ]
  },
  {
   "cell_type": "code",
   "execution_count": 2,
   "metadata": {},
   "outputs": [],
   "source": [
    "sift = cv2.SIFT_create()\n",
    "bf = cv2.BFMatcher()"
   ]
  },
  {
   "cell_type": "code",
   "execution_count": 3,
   "metadata": {},
   "outputs": [],
   "source": [
    "#สร้างฟังก์ชันในการตรวจจับหนังสือ\n",
    "def feature_object_detection(template_img, template_gray_filter, frame, frame_gray_filter, min_match_number) :\n",
    "    template_kpts, template_desc = sift.detectAndCompute(template_gray_filter, None)\n",
    "    frame_kpts, frame_desc = sift.detectAndCompute(frame_gray_filter, None)\n",
    "    matches = bf.knnMatch(template_desc, frame_desc, k=2)\n",
    "    good_matches = list()\n",
    "    good_matches_list = list()\n",
    "    for m, n in matches :\n",
    "        if m.distance < 0.67*n.distance :\n",
    "            good_matches.append(m)\n",
    "            good_matches_list.append([m])\n",
    "    \n",
    "    if len(good_matches) > min_match_number :\n",
    "        src_pts = np.float32([ template_kpts[m.queryIdx].pt for m in good_matches ]).reshape(-1,1,2)\n",
    "        dst_pts = np.float32([ frame_kpts[m.trainIdx].pt for m in good_matches ]).reshape(-1,1,2)\n",
    "\n",
    "        H, inlier_masks = cv2.findHomography(src_pts, dst_pts, cv2.RANSAC, 1.2) # H RANSAC\n",
    "\n",
    "        # get the bounding box around template image\n",
    "        h, w = template_img.shape[:2]\n",
    "        template_box = np.float32([[0, 0], [0, h-1], [w-1, h-1], [w-1, 0]]).reshape(-1,1,2)\n",
    "        transformed_box = cv2.perspectiveTransform(template_box, H)\n",
    "        detected_img = cv2.polylines(frame, [np.int32(transformed_box)], True, (255,0,143), 3, cv2.LINE_AA)\n",
    "\n",
    "        # drawmatch_img = cv2.drawMatchesKnn(template_img, template_kpts, detected_img, frame_kpts, good_matches_list, None, flags=2, matchesMask=inlier_masks)\n",
    "        # cv2.imshow('frame', frame)\n",
    "        # cv2.imshow('frame', detected_img)\n",
    "        return\n",
    "    else :\n",
    "        print('Keypoints not enough')\n",
    "        return"
   ]
  },
  {
   "cell_type": "code",
   "execution_count": 4,
   "metadata": {},
   "outputs": [
    {
     "name": "stdout",
     "output_type": "stream",
     "text": [
      "Keypoints not enough\n",
      "Keypoints not enough\n",
      "Keypoints not enough\n",
      "Keypoints not enough\n",
      "Keypoints not enough\n",
      "Keypoints not enough\n",
      "Keypoints not enough\n",
      "Keypoints not enough\n",
      "Keypoints not enough\n",
      "Keypoints not enough\n",
      "Keypoints not enough\n",
      "Keypoints not enough\n",
      "Keypoints not enough\n",
      "Keypoints not enough\n",
      "Keypoints not enough\n",
      "Keypoints not enough\n",
      "Keypoints not enough\n",
      "Keypoints not enough\n",
      "Keypoints not enough\n",
      "Keypoints not enough\n",
      "Keypoints not enough\n",
      "Keypoints not enough\n",
      "Keypoints not enough\n",
      "Keypoints not enough\n",
      "Keypoints not enough\n",
      "Keypoints not enough\n",
      "Keypoints not enough\n",
      "Keypoints not enough\n",
      "Keypoints not enough\n",
      "Keypoints not enough\n",
      "Keypoints not enough\n",
      "Keypoints not enough\n",
      "Keypoints not enough\n",
      "Keypoints not enough\n",
      "Keypoints not enough\n",
      "Keypoints not enough\n",
      "Keypoints not enough\n",
      "Keypoints not enough\n",
      "Keypoints not enough\n",
      "Keypoints not enough\n",
      "Keypoints not enough\n",
      "Keypoints not enough\n",
      "Keypoints not enough\n",
      "Keypoints not enough\n"
     ]
    }
   ],
   "source": [
    "#ทำการอ่านไฟล์รูปเทมเพลตของหนังสือ และไฟล์วีดีโอ พร้อมทั้งทำการฟิลเตอร์รูปภาพและวีดีโอ\n",
    "template_img = cv2.imread('./images/final_exam/Templates/Template-3.png')\n",
    "template_gray = cv2.cvtColor(template_img, cv2.COLOR_BGR2GRAY)\n",
    "kernel = np.array([[0,-1,0],\n",
    "                   [-1,6,-1],\n",
    "                   [0,-1,0]],dtype=np.float32)\n",
    "template_gray_filter = cv2.filter2D(template_gray,-1,kernel)\n",
    "\n",
    "vid_data = cv2.VideoCapture('./videos/final_exam/Dataset-2/right_output.avi')\n",
    "ret, frame = vid_data.read()\n",
    "\n",
    "while vid_data.isOpened() :\n",
    "    ret, frame = vid_data.read()\n",
    "\n",
    "    if ret :\n",
    "        frame_gray = cv2.cvtColor(frame, cv2.COLOR_BGR2GRAY)\n",
    "        kernel = np.array([[0,-1,0],\n",
    "                           [-1,6,-1],\n",
    "                           [0,-1,0]],dtype=np.float32)\n",
    "        frame_gray_filter = cv2.filter2D(frame_gray,-1,kernel)\n",
    "        feature_object_detection(template_img, template_gray_filter, frame, frame_gray_filter, 12)\n",
    "        cv2.imshow('detected_frame', frame)\n",
    "        key = cv2.waitKey(33) & 0xFF\n",
    "        if key == 27 or key == ord('q') :\n",
    "            break\n",
    "    else :\n",
    "        break\n",
    "    \n",
    "vid_data.release()\n",
    "cv2.destroyAllWindows()"
   ]
  }
 ],
 "metadata": {
  "interpreter": {
   "hash": "2647ea34e536f865ab67ff9ddee7fd78773d956cec0cab53c79b32cd10da5d83"
  },
  "kernelspec": {
   "display_name": "Python 3.9.6 64-bit",
   "language": "python",
   "name": "python3"
  },
  "language_info": {
   "codemirror_mode": {
    "name": "ipython",
    "version": 3
   },
   "file_extension": ".py",
   "mimetype": "text/x-python",
   "name": "python",
   "nbconvert_exporter": "python",
   "pygments_lexer": "ipython3",
   "version": "3.9.6"
  },
  "orig_nbformat": 4
 },
 "nbformat": 4,
 "nbformat_minor": 2
}
